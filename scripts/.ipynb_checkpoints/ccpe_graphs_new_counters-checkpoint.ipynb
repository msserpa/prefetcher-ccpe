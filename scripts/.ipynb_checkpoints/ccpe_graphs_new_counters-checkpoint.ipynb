{
 "cells": [
  {
   "cell_type": "markdown",
   "metadata": {},
   "source": [
    "## Data Reading"
   ]
  },
  {
   "cell_type": "code",
   "execution_count": 2,
   "metadata": {},
   "outputs": [],
   "source": [
    "import pandas as pd\n",
    "\n",
    "df_all=pd.read_csv('../data/cei55.native-L1-L2.csv')\n",
    "df_all_l2=pd.read_csv('../data/cei55.native-L2.csv')\n",
    "\n",
    "df_all_l1=pd.read_csv('../data/cei55.native-L1.csv')\n",
    "df_all=df_all.append(df_all_l2,sort=False)\n",
    "df_all=df_all.append(df_all_l1,sort=False)\n",
    "\n",
    "df_all_old_counters=pd.read_csv('../data/cei5.csv')\n",
    "df_all_zsim_old=pd.read_csv('../data/cei2.1.nas.csv')\n",
    "df_sniper_none=pd.read_csv('../data/results_sniper_none.csv')\n",
    "df_sniper_l1=pd.read_csv('../data/results_sniper_L1.csv')\n",
    "df_sniper_l1_l2=pd.read_csv('../data/results_sniper_L1_L2.csv')\n",
    "\n",
    "df_all_old_counters=df_all_old_counters.append(df_all_l1,sort=False).sort_values(['version','app','threads','cpu'])\n",
    "df_all_old_counters=df_all_old_counters.append(df_all_zsim_old,sort=False).sort_values(['version','app','threads','cpu'])\n",
    "df_all_old_counters=df_all_old_counters.append(df_sniper_none,sort=False).sort_values(['version','app','threads','cpu'])\n",
    "df_all_old_counters=df_all_old_counters.append(df_sniper_l1,sort=False).sort_values(['version','app','threads','cpu'])\n",
    "df_all_old_counters=df_all_old_counters.append(df_sniper_l1_l2,sort=False).sort_values(['version','app','threads','cpu'])\n",
    "\n",
    "\n",
    "\n",
    "df_vtune=pd.read_csv('../data/vtune.csv')\n",
    "df_vtune=df_vtune.loc[df_vtune['version']!='native-l1-l2']\n",
    "#vtune_cg_12_miss=df_vtune.loc[df_vtune['metric']=='llc-miss']\n",
    "#vtune_cg_12_miss=vtune_cg_12_miss.loc[vtune_cg_12_miss['app']=='cg']\n",
    "#vtune_cg_12_miss=vtune_cg_12_miss.loc[vtune_cg_12_miss['threads']==12]\n",
    "#vtune_cg_12_miss\n",
    "                              \n",
    "#df_all_old_counters.loc[df_all_old_counters['version']=='sniper-none']\n",
    "\n",
    "#df_all_old_counters=df_all_old_counters.append(df_all_l1,sort=False).sort_values(['version','app','threads','cpu'])\n",
    "\n",
    "#df_all"
   ]
  },
  {
   "cell_type": "markdown",
   "metadata": {},
   "source": [
    "## Data Preprocessing"
   ]
  },
  {
   "cell_type": "code",
   "execution_count": 9,
   "metadata": {},
   "outputs": [],
   "source": [
    "\n",
    "######## Computing IPC###########################\n",
    "df_cycles=df_all_old_counters.loc[df_all_old_counters['metric']=='cycles']\n",
    "df_instructions=df_all_old_counters.loc[df_all_old_counters['metric']=='instructions']\n",
    "\n",
    "#df_cycles_ep=df_cycles.loc[df_cycles['app']=='ep']\n",
    "cycles_mean_per_threads=df_cycles.groupby(['version','app','cpu','threads']).mean().reset_index()\n",
    "#cycles_mean_per_threads\n",
    "#df_cycles\n",
    "\n",
    "df_processed=cycles_mean_per_threads[['version','app','cpu','threads']].copy()\n",
    "df_processed['mean_cycles']=cycles_mean_per_threads['value']\n",
    "\n",
    "instr_mean_per_threads=df_instructions.groupby(['version','app','cpu','threads']).mean().reset_index()\n",
    "df_processed['mean_instructions']=instr_mean_per_threads['value']\n",
    "\n",
    "#auxipc = df_processed.loc[df_processed['app']=='bt']\n",
    "#auxipc = auxipc.loc[auxipc['version']=='sniper-none']\n",
    "#print(auxipc.loc[auxipc['cpu']==0])\n",
    "\n",
    "df_processed['ipc']=df_processed['mean_instructions']/df_processed['mean_cycles']\n",
    "#print(df_processed.loc[df_processed['version']=='sniper-l1-l2'])\n",
    "\n",
    "#aux = cycles_mean_per_threads.loc[cycles_mean_per_threads['app']=='bt']\n",
    "#aux = aux.loc[aux['version']=='sniper-none']\n",
    "#print(aux)\n",
    "#print(aux.loc[aux['cpu']==0])\n",
    "\n",
    "#auxinst = instr_mean_per_threads.loc[instr_mean_per_threads['app']=='bt']\n",
    "#auxinst = auxinst.loc[auxinst['version']=='sniper-none']\n",
    "#print(auxinst.loc[auxinst['cpu']==0])\n",
    "\n",
    "#auxipc = df_processed.loc[df_processed['app']=='bt']\n",
    "#auxipc = auxipc.loc[auxipc['version']=='sniper-none']\n",
    "#print(auxipc.loc[auxipc['cpu']==0])\n",
    "\n",
    "#print(df_processed['ipc'].loc[aux['threads']=='1'])\n",
    "#df_processed\n",
    "######## End Computing IPC ######################\n"
   ]
  },
  {
   "cell_type": "markdown",
   "metadata": {},
   "source": [
    "## Standard Metrics (Mean Cycles, Mean Instructions, Instructions per Cycle)"
   ]
  },
  {
   "cell_type": "code",
   "execution_count": 10,
   "metadata": {},
   "outputs": [
    {
     "data": {
      "application/vnd.jupyter.widget-view+json": {
       "model_id": "69b894dcf6d148eabf3d2d942e0ff8b9",
       "version_major": 2,
       "version_minor": 0
      },
      "text/plain": [
       "interactive(children=(Dropdown(description='metric', options=('mean_cycles', 'mean_instructions', 'ipc'), valu…"
      ]
     },
     "metadata": {},
     "output_type": "display_data"
    },
    {
     "data": {
      "text/plain": [
       "<function __main__.plot_metrics_graph(metric='mean_cycles', nb_threads='all')>"
      ]
     },
     "execution_count": 10,
     "metadata": {},
     "output_type": "execute_result"
    }
   ],
   "source": [
    "import seaborn as sns\n",
    "import matplotlib.pyplot as plt\n",
    "import ipywidgets as widgets\n",
    "from ipywidgets import interact, interactive, fixed, interact_manual\n",
    "from IPython.display import Javascript,display\n",
    "\n",
    "#hw_counters=['offcore-response-pf-l2-rfo-l3-hit-any-snoop']\n",
    "metrics=['mean_cycles','mean_instructions','ipc']\n",
    "nb_threads=['all','1','2','4','8','12']\n",
    "\n",
    "#df_miss_non0=df_miss.loc[df_miss['cpu']==0]\n",
    "def plot_metrics_graph(metric='mean_cycles',nb_threads='all'):\n",
    "\n",
    "    apps=['bt','cg','ep','ft','is','lu','mg','sp','ua']\n",
    "\n",
    "    df_metric=df_processed\n",
    "    if nb_threads!='all':\n",
    "        df_metric=df_metric.loc[df_metric['threads']==int(nb_threads)]\n",
    "    #print(df_metric)\n",
    "\n",
    "    #sns.catplot(x='threads',y='value',hue='version',data=cycles_max_per_threads,kind='bar',col='app',col_wrap=3)\n",
    "\n",
    "    fig, axs=plt.subplots(nrows=3,ncols=3,figsize=(13,13))\n",
    "    plt.tight_layout(pad=3.5)\n",
    "\n",
    "    for i,app in enumerate(apps):\n",
    "        row=int(i/3)\n",
    "        col=int(i%3)\n",
    "        cycles_app=df_metric.loc[df_metric['app']==app]\n",
    "        #print(app)        \n",
    "        if nb_threads=='all':\n",
    "            sns.barplot(x='threads',y=metric,hue='version',data=cycles_app,ax=axs[row][col], hue_order=['native-L1-L2','native-L2','native-L1','native-none'])\n",
    "            #sns.barplot(x='threads',y=metric,hue='version',data=cycles_app,ax=axs[row][col], hue_order=['native-L1-L2','native-L2','native-L1','native-none','zsim','sniper-none','sniper-l1','sniper-l1-l2'])\n",
    "        else:\n",
    "            sns.barplot(x='cpu',y=metric,hue='version',data=cycles_app,ax=axs[row][col])\n",
    "        \n",
    "        #sns.barplot(x='threads',y='value',hue='version',data=cycles_app,ax=axs[row][col])\n",
    "        #sns.catplot(x='threads',y='value',hue='version',data=cycles_app,kind='bar',ax=axs[row][col])\n",
    "        axs[row][col].set_title(app.upper())\n",
    "        axs[row][col].set_ylabel(metric)\n",
    "        if nb_threads=='all':\n",
    "            axs[row][col].set_xlabel('Number of Threads')\n",
    "        else:\n",
    "            axs[row][col].set_xlabel('Core Index')\n",
    "        #axs[row][col].set_yscale('log')\n",
    "        #break\n",
    "\n",
    "    #plt.savefig('figures/'+metric+'.pdf',type='pdf',bbox_inches='tight')\n",
    "    \n",
    "dropdown_metrics=widgets.Dropdown(\n",
    "    options=metrics,\n",
    "    value='mean_cycles',\n",
    "    description='metric',\n",
    "    disabled=False,\n",
    "    continuous_update=False,\n",
    "    orientation='horizontal',\n",
    "    readout=True\n",
    ")    \n",
    "dropdown_nb_threads=widgets.Dropdown(\n",
    "    options=nb_threads,\n",
    "    value='all',\n",
    "    description='nb_threads',\n",
    "    disabled=False,\n",
    "    continuous_update=False,\n",
    "    orientation='horizontal',\n",
    "    readout=True\n",
    ")\n",
    "\n",
    "interact_manual(plot_metrics_graph, metric=dropdown_metrics, nb_threads=dropdown_nb_threads)"
   ]
  },
  {
   "cell_type": "markdown",
   "metadata": {},
   "source": [
    "## Prefetcher Metrics "
   ]
  },
  {
   "cell_type": "code",
   "execution_count": 24,
   "metadata": {
    "scrolled": false
   },
   "outputs": [
    {
     "data": {
      "application/vnd.jupyter.widget-view+json": {
       "model_id": "359a05b5235d43ff85c85ed8a99dd4be",
       "version_major": 2,
       "version_minor": 0
      },
      "text/plain": [
       "interactive(children=(Dropdown(description='counter', index=4, options=('offcore-response-pf-l2-data-rd-any-re…"
      ]
     },
     "metadata": {},
     "output_type": "display_data"
    },
    {
     "data": {
      "text/plain": [
       "<function __main__.plot_hwcounter_graph(counter='offcore-response-pf-l2-rfo-l3-hit-any-snoop', nb_threads='all')>"
      ]
     },
     "execution_count": 24,
     "metadata": {},
     "output_type": "execute_result"
    }
   ],
   "source": [
    "import seaborn as sns\n",
    "import matplotlib.pyplot as plt\n",
    "import ipywidgets as widgets\n",
    "from ipywidgets import interact, interactive, fixed, interact_manual\n",
    "from IPython.display import Javascript,display\n",
    "\n",
    "#hw_counters=['offcore-response-pf-l2-rfo-l3-hit-any-snoop']\n",
    "hw_counters=['offcore-response-pf-l2-data-rd-any-response',\n",
    "             'offcore-response-pf-l2-data-rd-l3-hit-any-snoop',\n",
    "             'offcore-response-pf-l2-data-rd-l3-hit-hitm-other-core',\n",
    "             'offcore-response-pf-l2-rfo-any-response',\n",
    "             'offcore-response-pf-l2-rfo-l3-hit-any-snoop',\n",
    "             'offcore-response-pf-l2-rfo-l3-hit-hitm-other-core']\n",
    "\n",
    "nb_threads=['all','1','2','4','8','12']\n",
    "\n",
    "#df_miss_non0=df_miss.loc[df_miss['cpu']==0]\n",
    "def plot_hwcounter_graph(counter='offcore-response-pf-l2-rfo-l3-hit-any-snoop',nb_threads='all'):\n",
    "\n",
    "    apps=['bt','cg','ep','ft','is','lu','mg','sp','ua']\n",
    "\n",
    "    df_metric=df_all.loc[df_all['metric']==counter]\n",
    "    if nb_threads!='all':\n",
    "        df_metric=df_metric.loc[df_metric['threads']==int(nb_threads)]\n",
    "    #print(df_metric)\n",
    "\n",
    "    #sns.catplot(x='threads',y='value',hue='version',data=cycles_max_per_threads,kind='bar',col='app',col_wrap=3)\n",
    "\n",
    "    fig, axs=plt.subplots(nrows=3,ncols=3,figsize=(13,13))\n",
    "    plt.tight_layout(pad=3.5)\n",
    "\n",
    "    for i,app in enumerate(apps):\n",
    "        row=int(i/3)\n",
    "        col=int(i%3)\n",
    "        cycles_app=df_metric.loc[df_metric['app']==app]\n",
    "        #print(app)\n",
    "        if nb_threads=='all':\n",
    "            #print(cycles_app['value'].sum())\n",
    "            #aux1 = cycles_app.groupby(['version','threads','cpu']).count().reset_index()['value'][0] \n",
    "            aux1 = cycles_app.groupby(['version','threads','cpu']).count().reset_index()\n",
    "            aux2 = cycles_app.groupby(['version','threads']).sum().reset_index()\n",
    "            aux3 = aux1.groupby(['version', 'threads']).mean().reset_index()\n",
    "        \n",
    "            aux2['value'] = aux2['value']/aux3['value']\n",
    "            #with pd.option_context('display.max_rows', None, 'display.max_columns', None):  # more options can be specified also\n",
    "                #print(aux1)\n",
    "                #print(aux3)\n",
    "                #print(aux2)\n",
    "            sns.barplot(x='threads',y='value',hue='version',data=aux2,ax=axs[row][col])\n",
    "            axs[row][col].set_yscale('log')\n",
    "        else:\n",
    "            aux = cycles_app.groupby(['version','threads','cpu']).mean().reset_index()\n",
    "            sns.barplot(x='cpu',y='value',hue='version',data=aux,ax=axs[row][col])\n",
    "        \n",
    "        #sns.barplot(x='threads',y='value',hue='version',data=cycles_app,ax=axs[row][col])\n",
    "        #sns.catplot(x='threads',y='value',hue='version',data=cycles_app,kind='bar',ax=axs[row][col])\n",
    "        axs[row][col].set_title(app.upper())\n",
    "        axs[row][col].set_ylabel(counter)\n",
    "        if nb_threads=='all':\n",
    "            axs[row][col].set_xlabel('Number of Threads')\n",
    "        else:\n",
    "            axs[row][col].set_xlabel('Core Index')\n",
    "        #axs[row][col].set_yscale('log')\n",
    "        #break\n",
    "\n",
    "    #plt.savefig('l2-lines-out-useless-hwpf.pdf',type='pdf',bbox_inches='tight')\n",
    "    \n",
    "dropdown_counters=widgets.Dropdown(\n",
    "    options=hw_counters,\n",
    "    value='offcore-response-pf-l2-rfo-l3-hit-any-snoop',\n",
    "    description='counter',\n",
    "    disabled=False,\n",
    "    continuous_update=False,\n",
    "    orientation='horizontal',\n",
    "    readout=True\n",
    ")    \n",
    "dropdown_nb_threads=widgets.Dropdown(\n",
    "    options=nb_threads,\n",
    "    value='all',\n",
    "    description='nb_threads',\n",
    "    disabled=False,\n",
    "    continuous_update=False,\n",
    "    orientation='horizontal',\n",
    "    readout=True\n",
    ")\n",
    "\n",
    "interact_manual(plot_hwcounter_graph, counter=dropdown_counters, nb_threads=dropdown_nb_threads)"
   ]
  },
  {
   "cell_type": "code",
   "execution_count": 46,
   "metadata": {},
   "outputs": [
    {
     "data": {
      "application/vnd.jupyter.widget-view+json": {
       "model_id": "7e9cce131cef41a2b2555181ee394e5c",
       "version_major": 2,
       "version_minor": 0
      },
      "text/plain": [
       "interactive(children=(Dropdown(description='counter', index=5, options=('l2-rqsts-demand-data-rd-hit', 'instru…"
      ]
     },
     "metadata": {},
     "output_type": "display_data"
    },
    {
     "data": {
      "text/plain": [
       "<function __main__.plot_hwcounter_graph(counter='l2-rqsts-all-pf', nb_threads='all')>"
      ]
     },
     "execution_count": 46,
     "metadata": {},
     "output_type": "execute_result"
    }
   ],
   "source": [
    "import seaborn as sns\n",
    "import matplotlib.pyplot as plt\n",
    "import ipywidgets as widgets\n",
    "from ipywidgets import interact, interactive, fixed, interact_manual\n",
    "from IPython.display import Javascript,display\n",
    "\n",
    "#hw_counters=['offcore-response-pf-l2-rfo-l3-hit-any-snoop']\n",
    "hw_counters=['l2-rqsts-demand-data-rd-hit',\n",
    "             'instructions',\n",
    "             'l2-lines-out-useless-pref',\n",
    "             'l2-lines-out-useless-hwpf',\n",
    "             'l2-rqsts-demand-data-rd-miss',\n",
    "             'l2-rqsts-all-pf',\n",
    "             'l2-rqsts-pf-miss',\n",
    "             'l2-rqsts-pf-hit']\n",
    "\n",
    "nb_threads=['all','1','2','4','8','12']\n",
    "\n",
    "#df_miss_non0=df_miss.loc[df_miss['cpu']==0]\n",
    "def plot_hwcounter_graph(counter='l2-rqsts-all-pf',nb_threads='all'):\n",
    "\n",
    "    apps=['bt','cg','ep','ft','is','lu','mg','sp','ua']\n",
    "\n",
    "    #print(df_all_old_counters)\n",
    "    \n",
    "    df_metric=df_all_old_counters.loc[df_all_old_counters['metric']==counter]\n",
    "    df_inst=df_all_old_counters.loc[df_all_old_counters['metric']=='instructions']\n",
    "    if nb_threads!='all':\n",
    "        df_metric=df_metric.loc[df_metric['threads']==int(nb_threads)]\n",
    "        df_inst=df_inst.loc[df_inst['threads']==int(nb_threads)]\n",
    "    #print(df_metric)\n",
    "\n",
    "    #sns.catplot(x='threads',y='value',hue='version',data=cycles_max_per_threads,kind='bar',col='app',col_wrap=3)\n",
    "\n",
    "    fig, axs=plt.subplots(nrows=3,ncols=3,figsize=(13,13))\n",
    "    plt.tight_layout(pad=3.5)\n",
    "\n",
    "    for i,app in enumerate(apps):\n",
    "        row=int(i/3)\n",
    "        col=int(i%3)\n",
    "        cycles_app=df_metric.loc[df_metric['app']==app]\n",
    "        inst_app=df_inst.loc[df_inst['app']==app]\n",
    "        #print(app)\n",
    "        if nb_threads=='all':\n",
    "            \n",
    "            #L2 MPKI: (when l2 demand misses are selected)\n",
    "\n",
    "            #l2 misses summing all executions in auxl2miss\n",
    "            auxl2miss = cycles_app.groupby(['version','threads']).sum().reset_index()\n",
    "            #instructions summing all executions in auxinst\n",
    "            auxinst = inst_app.groupby(['version','threads']).sum().reset_index()\n",
    "            \n",
    "            #auxl2miss['value'] = auxl2miss['value']/(auxinst['value']*1000)\n",
    "            \n",
    "            #auxcount = cycles_app.groupby(['version','threads','cpu']).count().reset_index()\n",
    "            #aux3 = auxcount.groupby(['version', 'threads']).mean().reset_index()\n",
    "            \n",
    "            with pd.option_context('display.max_rows', None, 'display.max_columns', None):  # more options can be specified also\n",
    "                print(\"app is \" + app + \" and l2miss is\")\n",
    "                print(auxl2miss)\n",
    "                print(\"kiloinst is:\")\n",
    "                print(auxinst)\n",
    "        \n",
    "            #auxl2miss['value'] = auxl2miss['value']/aux3['value']\n",
    "            auxl2miss['value'] = 1000*auxl2miss['value']/auxinst['value']\n",
    "                #print(aux1)\n",
    "                #print(aux3)\n",
    "                #print(aux2)\n",
    "            sns.barplot(x='threads',y='value',hue='version',data=auxl2miss,ax=axs[row][col])\n",
    "            axs[row][col].set_yscale('log')\n",
    "        else:\n",
    "            aux = cycles_app.groupby(['version','threads','cpu']).mean().reset_index()\n",
    "            sns.barplot(x='cpu',y='value',hue='version',data=aux,ax=axs[row][col])\n",
    "        \n",
    "        #sns.barplot(x='threads',y='value',hue='version',data=cycles_app,ax=axs[row][col])\n",
    "        #sns.catplot(x='threads',y='value',hue='version',data=cycles_app,kind='bar',ax=axs[row][col])\n",
    "        axs[row][col].set_title(app.upper())\n",
    "        axs[row][col].set_ylabel(counter)\n",
    "        if nb_threads=='all':\n",
    "            axs[row][col].set_xlabel('Number of Threads')\n",
    "        else:\n",
    "            axs[row][col].set_xlabel('Core Index')\n",
    "        #axs[row][col].set_yscale('log')\n",
    "        #break\n",
    "\n",
    "    #plt.savefig('l2-lines-out-useless-hwpf.pdf',type='pdf',bbox_inches='tight')\n",
    "    \n",
    "dropdown_counters=widgets.Dropdown(\n",
    "    options=hw_counters,\n",
    "    value='l2-rqsts-all-pf',\n",
    "    description='counter',\n",
    "    disabled=False,\n",
    "    continuous_update=False,\n",
    "    orientation='horizontal',\n",
    "    readout=True\n",
    ")    \n",
    "dropdown_nb_threads=widgets.Dropdown(\n",
    "    options=nb_threads,\n",
    "    value='all',\n",
    "    description='nb_threads',\n",
    "    disabled=False,\n",
    "    continuous_update=False,\n",
    "    orientation='horizontal',\n",
    "    readout=True\n",
    ")\n",
    "\n",
    "interact_manual(plot_hwcounter_graph, counter=dropdown_counters, nb_threads=dropdown_nb_threads)"
   ]
  },
  {
   "cell_type": "code",
   "execution_count": 15,
   "metadata": {},
   "outputs": [
    {
     "data": {
      "application/vnd.jupyter.widget-view+json": {
       "model_id": "4a4a132a6d3b4cb48028f33c4eb87c28",
       "version_major": 2,
       "version_minor": 0
      },
      "text/plain": [
       "interactive(children=(Dropdown(description='counter', options=('llc-miss',), value='llc-miss'), Dropdown(descr…"
      ]
     },
     "metadata": {},
     "output_type": "display_data"
    },
    {
     "data": {
      "text/plain": [
       "<function __main__.plot_hwcounter_graph(counter='llc-miss', nb_threads='all')>"
      ]
     },
     "execution_count": 15,
     "metadata": {},
     "output_type": "execute_result"
    }
   ],
   "source": [
    "import seaborn as sns\n",
    "import matplotlib.pyplot as plt\n",
    "import ipywidgets as widgets\n",
    "from ipywidgets import interact, interactive, fixed, interact_manual\n",
    "from IPython.display import Javascript,display\n",
    "\n",
    "#hw_counters=['offcore-response-pf-l2-rfo-l3-hit-any-snoop']\n",
    "hw_counters=['llc-miss']\n",
    "\n",
    "nb_threads=['all','1','2','4','8','12']\n",
    "\n",
    "#df_miss_non0=df_miss.loc[df_miss['cpu']==0]\n",
    "def plot_hwcounter_graph(counter='llc-miss',nb_threads='all'):\n",
    "\n",
    "    apps=['bt','cg','ep','ft','is','lu','mg','sp','ua']\n",
    "\n",
    "    df_metric=df_vtune.loc[df_vtune['metric']==counter]\n",
    "    if nb_threads!='all':\n",
    "        df_metric=df_metric.loc[df_metric['threads']==int(nb_threads)]\n",
    "    #print(df_metric)\n",
    "\n",
    "    #sns.catplot(x='threads',y='value',hue='version',data=cycles_max_per_threads,kind='bar',col='app',col_wrap=3)\n",
    "\n",
    "    fig, axs=plt.subplots(nrows=3,ncols=3,figsize=(13,13))\n",
    "    plt.tight_layout(pad=3.5)\n",
    "\n",
    "    for i,app in enumerate(apps):\n",
    "        row=int(i/3)\n",
    "        col=int(i%3)\n",
    "        metric_app=df_metric.loc[df_metric['app']==app]\n",
    "        #print(app)\n",
    "        if nb_threads=='all':\n",
    "            #print(cycles_app['value'].sum())\n",
    "            #aux1 = cycles_app.groupby(['version','threads','cpu']).count().reset_index()['value'][0] \n",
    "            \n",
    "            \n",
    "            #aux1 = cycles_app.groupby(['version','threads','cpu']).count().reset_index()\n",
    "            #aux2 = cycles_app.groupby(['version','threads']).sum().reset_index()\n",
    "            #aux3 = aux1.groupby(['version', 'threads']).mean().reset_index()        \n",
    "            #aux2['value'] = aux2['value']/aux3['value']\n",
    "            \n",
    "            #with pd.option_context('display.max_rows', None, 'display.max_columns', None):  # more options can be specified also\n",
    "                #print(aux1)\n",
    "                #print(aux3)\n",
    "                #print(aux2)\n",
    "            sns.barplot(x='threads',y='value',hue='version',data=metric_app,ax=axs[row][col])\n",
    "            #axs[row][col].set_yscale('log')\n",
    "        else:\n",
    "            aux = cycles_app.groupby(['version','threads','cpu']).mean().reset_index()\n",
    "            sns.barplot(x='cpu',y='value',hue='version',data=metric_app,ax=axs[row][col])\n",
    "        \n",
    "        #sns.barplot(x='threads',y='value',hue='version',data=cycles_app,ax=axs[row][col])\n",
    "        #sns.catplot(x='threads',y='value',hue='version',data=cycles_app,kind='bar',ax=axs[row][col])\n",
    "        axs[row][col].set_title(app.upper())\n",
    "        axs[row][col].set_ylabel(counter)\n",
    "        if nb_threads=='all':\n",
    "            axs[row][col].set_xlabel('Number of Threads')\n",
    "        else:\n",
    "            axs[row][col].set_xlabel('Core Index')\n",
    "        #axs[row][col].set_yscale('log')\n",
    "        #break        \n",
    "\n",
    "    plt.savefig('figures/'+counter+'.pdf',type='pdf',bbox_inches='tight')\n",
    "    \n",
    "dropdown_counters=widgets.Dropdown(\n",
    "    options=hw_counters,\n",
    "    value='llc-miss',\n",
    "    description='counter',\n",
    "    disabled=False,\n",
    "    continuous_update=False,\n",
    "    orientation='horizontal',\n",
    "    readout=True\n",
    ")    \n",
    "dropdown_nb_threads=widgets.Dropdown(\n",
    "    options=nb_threads,\n",
    "    value='all',\n",
    "    description='nb_threads',\n",
    "    disabled=False,\n",
    "    continuous_update=False,\n",
    "    orientation='horizontal',\n",
    "    readout=True\n",
    ")\n",
    "\n",
    "interact_manual(plot_hwcounter_graph, counter=dropdown_counters, nb_threads=dropdown_nb_threads)"
   ]
  },
  {
   "cell_type": "markdown",
   "metadata": {},
   "source": [
    "## CG LLC MISS"
   ]
  },
  {
   "cell_type": "code",
   "execution_count": 24,
   "metadata": {},
   "outputs": [
    {
     "data": {
      "application/vnd.jupyter.widget-view+json": {
       "model_id": "79d87d396e2542e58ac33297f713cb8c",
       "version_major": 2,
       "version_minor": 0
      },
      "text/plain": [
       "interactive(children=(Dropdown(description='counter', options=('llc-miss',), value='llc-miss'), Dropdown(descr…"
      ]
     },
     "metadata": {},
     "output_type": "display_data"
    },
    {
     "data": {
      "text/plain": [
       "<function __main__.plot_hwcounter_graph(counter='llc-miss', nb_threads='all')>"
      ]
     },
     "execution_count": 24,
     "metadata": {},
     "output_type": "execute_result"
    }
   ],
   "source": [
    "import seaborn as sns\n",
    "import matplotlib.pyplot as plt\n",
    "import ipywidgets as widgets\n",
    "from ipywidgets import interact, interactive, fixed, interact_manual\n",
    "from IPython.display import Javascript,display\n",
    "\n",
    "#hw_counters=['offcore-response-pf-l2-rfo-l3-hit-any-snoop']\n",
    "hw_counters=['llc-miss']\n",
    "\n",
    "nb_threads=['all','1','2','4','8','12']\n",
    "\n",
    "#df_miss_non0=df_miss.loc[df_miss['cpu']==0]\n",
    "def plot_hwcounter_graph(counter='llc-miss',nb_threads='all'):\n",
    "\n",
    "    apps=['cg']\n",
    "\n",
    "    df_metric=df_vtune.loc[df_vtune['metric']==counter]\n",
    "    if nb_threads!='all':\n",
    "        df_metric=df_metric.loc[df_metric['threads']==int(nb_threads)]\n",
    "    #print(df_metric)\n",
    "\n",
    "    #sns.catplot(x='threads',y='value',hue='version',data=cycles_max_per_threads,kind='bar',col='app',col_wrap=3)\n",
    "\n",
    "    #fig, axs=plt.subplots(nrows=1,ncols=1,figsize=(13,13))\n",
    "    plt.figure(figsize=(5,5))\n",
    "    plt.tight_layout(pad=3.5)\n",
    "\n",
    "    for i,app in enumerate(apps):\n",
    "        #row=int(i/1)\n",
    "        #col=int(i%1)\n",
    "        metric_app=df_metric.loc[df_metric['app']==app]\n",
    "        #print(app)\n",
    "        if nb_threads=='all':\n",
    "            #print(cycles_app['value'].sum())\n",
    "            #aux1 = cycles_app.groupby(['version','threads','cpu']).count().reset_index()['value'][0] \n",
    "            \n",
    "            \n",
    "            #aux1 = cycles_app.groupby(['version','threads','cpu']).count().reset_index()\n",
    "            #aux2 = cycles_app.groupby(['version','threads']).sum().reset_index()\n",
    "            #aux3 = aux1.groupby(['version', 'threads']).mean().reset_index()        \n",
    "            #aux2['value'] = aux2['value']/aux3['value']\n",
    "            \n",
    "            #with pd.option_context('display.max_rows', None, 'display.max_columns', None):  # more options can be specified also\n",
    "                #print(aux1)\n",
    "                #print(aux3)\n",
    "                #print(aux2)\n",
    "            sns.barplot(x='threads',y='value',hue='version',data=metric_app)\n",
    "            #axs[row][col].set_yscale('log')\n",
    "        else:\n",
    "            aux = cycles_app.groupby(['version','threads','cpu']).mean().reset_index()\n",
    "            sns.barplot(x='cpu',y='value',hue='version',data=metric_app)\n",
    "        \n",
    "        #sns.barplot(x='threads',y='value',hue='version',data=cycles_app,ax=axs[row][col])\n",
    "        #sns.catplot(x='threads',y='value',hue='version',data=cycles_app,kind='bar',ax=axs[row][col])\n",
    "        plt.title(app.upper())\n",
    "        plt.ylabel(counter)\n",
    "        if nb_threads=='all':\n",
    "            plt.xlabel('Number of Threads')\n",
    "        else:\n",
    "            plt.xlabel('Core Index')\n",
    "        #axs[row][col].set_yscale('log')\n",
    "        #break        \n",
    "\n",
    "    plt.savefig('figures/'+counter+'_'+app+'.pdf',type='pdf',bbox_inches='tight')\n",
    "    \n",
    "dropdown_counters=widgets.Dropdown(\n",
    "    options=hw_counters,\n",
    "    value='llc-miss',\n",
    "    description='counter',\n",
    "    disabled=False,\n",
    "    continuous_update=False,\n",
    "    orientation='horizontal',\n",
    "    readout=True\n",
    ")    \n",
    "dropdown_nb_threads=widgets.Dropdown(\n",
    "    options=nb_threads,\n",
    "    value='all',\n",
    "    description='nb_threads',\n",
    "    disabled=False,\n",
    "    continuous_update=False,\n",
    "    orientation='horizontal',\n",
    "    readout=True\n",
    ")\n",
    "\n",
    "interact_manual(plot_hwcounter_graph, counter=dropdown_counters, nb_threads=dropdown_nb_threads)"
   ]
  },
  {
   "cell_type": "markdown",
   "metadata": {},
   "source": [
    "# ZSim and Sniper (NO PREF)"
   ]
  },
  {
   "cell_type": "code",
   "execution_count": 23,
   "metadata": {
    "scrolled": false
   },
   "outputs": [
    {
     "data": {
      "application/vnd.jupyter.widget-view+json": {
       "model_id": "52f21393e5f34216a8339c0ea4f8b174",
       "version_major": 2,
       "version_minor": 0
      },
      "text/plain": [
       "interactive(children=(Dropdown(description='metric', options=('mean_cycles', 'mean_instructions', 'ipc'), valu…"
      ]
     },
     "metadata": {},
     "output_type": "display_data"
    },
    {
     "data": {
      "text/plain": [
       "<function __main__.plot_metrics_graph(metric='mean_cycles', nb_threads='all')>"
      ]
     },
     "execution_count": 23,
     "metadata": {},
     "output_type": "execute_result"
    }
   ],
   "source": [
    "import seaborn as sns\n",
    "import matplotlib.pyplot as plt\n",
    "import ipywidgets as widgets\n",
    "from ipywidgets import interact, interactive, fixed, interact_manual\n",
    "from IPython.display import Javascript,display\n",
    "\n",
    "#hw_counters=['offcore-response-pf-l2-rfo-l3-hit-any-snoop']\n",
    "metrics=['mean_cycles','mean_instructions','ipc']\n",
    "nb_threads=['all','1','2','4','8','12']\n",
    "\n",
    "#df_miss_non0=df_miss.loc[df_miss['cpu']==0]\n",
    "def plot_metrics_graph(metric='mean_cycles',nb_threads='all'):\n",
    "\n",
    "    apps=['cg','ep','ft','is','mg','lu']\n",
    "\n",
    "    #df_metric=df_processed\n",
    "    df_metric=df_processed.loc[df_processed['threads']!=8]\n",
    "    if nb_threads!='all':\n",
    "        df_metric=df_metric.loc[df_metric['threads']==int(nb_threads)]\n",
    "    #print(df_metric)\n",
    "\n",
    "    #sns.catplot(x='threads',y='value',hue='version',data=cycles_max_per_threads,kind='bar',col='app',col_wrap=3)\n",
    "\n",
    "    fig, axs=plt.subplots(nrows=2,ncols=3,figsize=(13,9))\n",
    "    plt.tight_layout(pad=3.5)\n",
    "\n",
    "    for i,app in enumerate(apps):\n",
    "        row=int(i/3)\n",
    "        col=int(i%3)\n",
    "        cycles_app=df_metric.loc[df_metric['app']==app]\n",
    "        #print(app)        \n",
    "        if nb_threads=='all':\n",
    "            #sns.barplot(x='threads',y=metric,hue='version',data=cycles_app,ax=axs[row][col], hue_order=['native-L1-L2','native-L2','native-L1','native-none'])\n",
    "            #sns.barplot(x='threads',y=metric,hue='version',data=cycles_app,ax=axs[row][col], hue_order=['native-L1-L2','native-L2','native-L1','native-none','zsim','sniper-none','sniper-l1','sniper-l1-l2'])\n",
    "            if app == 'lu':\n",
    "                sns.barplot(x='threads',y=metric,hue='version',data=cycles_app,ax=axs[row][col], hue_order=['native-none','zsim'])\n",
    "            else:\n",
    "                sns.barplot(x='threads',y=metric,hue='version',data=cycles_app,ax=axs[row][col], hue_order=['native-none','zsim','sniper-none'])\n",
    "        else:\n",
    "            sns.barplot(x='cpu',y=metric,hue='version',data=cycles_app,ax=axs[row][col])\n",
    "        \n",
    "        #sns.barplot(x='threads',y='value',hue='version',data=cycles_app,ax=axs[row][col])\n",
    "        #sns.catplot(x='threads',y='value',hue='version',data=cycles_app,kind='bar',ax=axs[row][col])\n",
    "        axs[row][col].set_title(app.upper())\n",
    "        axs[row][col].set_ylabel(metric)\n",
    "        if nb_threads=='all':\n",
    "            axs[row][col].set_xlabel('Number of Threads')\n",
    "        else:\n",
    "            axs[row][col].set_xlabel('Core Index')\n",
    "        #axs[row][col].set_yscale('log')\n",
    "        #break\n",
    "\n",
    "    plt.savefig('figures/sim_nopref_'+metric+'.pdf',type='pdf',bbox_inches='tight')\n",
    "    \n",
    "dropdown_metrics=widgets.Dropdown(\n",
    "    options=metrics,\n",
    "    value='mean_cycles',\n",
    "    description='metric',\n",
    "    disabled=False,\n",
    "    continuous_update=False,\n",
    "    orientation='horizontal',\n",
    "    readout=True\n",
    ")    \n",
    "dropdown_nb_threads=widgets.Dropdown(\n",
    "    options=nb_threads,\n",
    "    value='all',\n",
    "    description='nb_threads',\n",
    "    disabled=False,\n",
    "    continuous_update=False,\n",
    "    orientation='horizontal',\n",
    "    readout=True\n",
    ")\n",
    "\n",
    "interact_manual(plot_metrics_graph, metric=dropdown_metrics, nb_threads=dropdown_nb_threads)"
   ]
  },
  {
   "cell_type": "markdown",
   "metadata": {},
   "source": [
    "# SNIPER (L1)"
   ]
  },
  {
   "cell_type": "code",
   "execution_count": 20,
   "metadata": {},
   "outputs": [
    {
     "data": {
      "application/vnd.jupyter.widget-view+json": {
       "model_id": "fe3e23dbb6ad4ae98688ae74d66ea88e",
       "version_major": 2,
       "version_minor": 0
      },
      "text/plain": [
       "interactive(children=(Dropdown(description='metric', options=('mean_cycles', 'mean_instructions', 'ipc'), valu…"
      ]
     },
     "metadata": {},
     "output_type": "display_data"
    },
    {
     "data": {
      "text/plain": [
       "<function __main__.plot_metrics_graph(metric='mean_cycles', nb_threads='all')>"
      ]
     },
     "execution_count": 20,
     "metadata": {},
     "output_type": "execute_result"
    }
   ],
   "source": [
    "import seaborn as sns\n",
    "import matplotlib.pyplot as plt\n",
    "import ipywidgets as widgets\n",
    "from ipywidgets import interact, interactive, fixed, interact_manual\n",
    "from IPython.display import Javascript,display\n",
    "\n",
    "#hw_counters=['offcore-response-pf-l2-rfo-l3-hit-any-snoop']\n",
    "metrics=['mean_cycles','mean_instructions','ipc']\n",
    "nb_threads=['all','1','2','4','8','12']\n",
    "\n",
    "#df_miss_non0=df_miss.loc[df_miss['cpu']==0]\n",
    "def plot_metrics_graph(metric='mean_cycles',nb_threads='all'):\n",
    "\n",
    "    apps=['cg','ep','ft','is','mg']\n",
    "\n",
    "    #df_metric=df_processed\n",
    "    df_metric=df_processed.loc[df_processed['threads']!=8]\n",
    "    if nb_threads!='all':\n",
    "        df_metric=df_metric.loc[df_metric['threads']==int(nb_threads)]\n",
    "    #print(df_metric)\n",
    "\n",
    "    #sns.catplot(x='threads',y='value',hue='version',data=cycles_max_per_threads,kind='bar',col='app',col_wrap=3)\n",
    "\n",
    "    fig, axs=plt.subplots(nrows=2,ncols=3,figsize=(13,9))\n",
    "    plt.tight_layout(pad=3.5)\n",
    "\n",
    "    for i,app in enumerate(apps):\n",
    "        row=int(i/3)\n",
    "        col=int(i%3)\n",
    "        cycles_app=df_metric.loc[df_metric['app']==app]\n",
    "        #print(app)        \n",
    "        if nb_threads=='all':\n",
    "            #sns.barplot(x='threads',y=metric,hue='version',data=cycles_app,ax=axs[row][col], hue_order=['native-L1-L2','native-L2','native-L1','native-none'])\n",
    "            #sns.barplot(x='threads',y=metric,hue='version',data=cycles_app,ax=axs[row][col], hue_order=['native-L1-L2','native-L2','native-L1','native-none','zsim','sniper-none','sniper-l1','sniper-l1-l2'])\n",
    "            sns.barplot(x='threads',y=metric,hue='version',data=cycles_app,ax=axs[row][col], hue_order=['native-L1','sniper-l1'])\n",
    "        else:\n",
    "            sns.barplot(x='cpu',y=metric,hue='version',data=cycles_app,ax=axs[row][col])\n",
    "        \n",
    "        #sns.barplot(x='threads',y='value',hue='version',data=cycles_app,ax=axs[row][col])\n",
    "        #sns.catplot(x='threads',y='value',hue='version',data=cycles_app,kind='bar',ax=axs[row][col])\n",
    "        axs[row][col].set_title(app.upper())\n",
    "        axs[row][col].set_ylabel(metric)\n",
    "        if nb_threads=='all':\n",
    "            axs[row][col].set_xlabel('Number of Threads')\n",
    "        else:\n",
    "            axs[row][col].set_xlabel('Core Index')\n",
    "        #axs[row][col].set_yscale('log')\n",
    "        #break\n",
    "\n",
    "    plt.savefig('figures/sniper_l1_'+metric+'.pdf',type='pdf',bbox_inches='tight')\n",
    "    \n",
    "dropdown_metrics=widgets.Dropdown(\n",
    "    options=metrics,\n",
    "    value='mean_cycles',\n",
    "    description='metric',\n",
    "    disabled=False,\n",
    "    continuous_update=False,\n",
    "    orientation='horizontal',\n",
    "    readout=True\n",
    ")    \n",
    "dropdown_nb_threads=widgets.Dropdown(\n",
    "    options=nb_threads,\n",
    "    value='all',\n",
    "    description='nb_threads',\n",
    "    disabled=False,\n",
    "    continuous_update=False,\n",
    "    orientation='horizontal',\n",
    "    readout=True\n",
    ")\n",
    "\n",
    "interact_manual(plot_metrics_graph, metric=dropdown_metrics, nb_threads=dropdown_nb_threads)"
   ]
  },
  {
   "cell_type": "markdown",
   "metadata": {},
   "source": [
    "# SNIPER (L1-L2)"
   ]
  },
  {
   "cell_type": "code",
   "execution_count": 21,
   "metadata": {},
   "outputs": [
    {
     "data": {
      "application/vnd.jupyter.widget-view+json": {
       "model_id": "3e83c052aa0e40bcbadd28a48508d8e3",
       "version_major": 2,
       "version_minor": 0
      },
      "text/plain": [
       "interactive(children=(Dropdown(description='metric', options=('mean_cycles', 'mean_instructions', 'ipc'), valu…"
      ]
     },
     "metadata": {},
     "output_type": "display_data"
    },
    {
     "data": {
      "text/plain": [
       "<function __main__.plot_metrics_graph(metric='mean_cycles', nb_threads='all')>"
      ]
     },
     "execution_count": 21,
     "metadata": {},
     "output_type": "execute_result"
    }
   ],
   "source": [
    "import seaborn as sns\n",
    "import matplotlib.pyplot as plt\n",
    "import ipywidgets as widgets\n",
    "from ipywidgets import interact, interactive, fixed, interact_manual\n",
    "from IPython.display import Javascript,display\n",
    "\n",
    "#hw_counters=['offcore-response-pf-l2-rfo-l3-hit-any-snoop']\n",
    "metrics=['mean_cycles','mean_instructions','ipc']\n",
    "nb_threads=['all','1','2','4','8','12']\n",
    "\n",
    "#df_miss_non0=df_miss.loc[df_miss['cpu']==0]\n",
    "def plot_metrics_graph(metric='mean_cycles',nb_threads='all'):\n",
    "\n",
    "    apps=['cg','ep','ft','is','mg']\n",
    "\n",
    "    #df_metric=df_processed\n",
    "    df_metric=df_processed.loc[df_processed['threads']!=8]\n",
    "    if nb_threads!='all':\n",
    "        df_metric=df_metric.loc[df_metric['threads']==int(nb_threads)]\n",
    "    #print(df_metric)\n",
    "\n",
    "    #sns.catplot(x='threads',y='value',hue='version',data=cycles_max_per_threads,kind='bar',col='app',col_wrap=3)\n",
    "\n",
    "    fig, axs=plt.subplots(nrows=2,ncols=3,figsize=(13,9))\n",
    "    plt.tight_layout(pad=3.5)\n",
    "\n",
    "    for i,app in enumerate(apps):\n",
    "        row=int(i/3)\n",
    "        col=int(i%3)\n",
    "        cycles_app=df_metric.loc[df_metric['app']==app]\n",
    "        #print(app)        \n",
    "        if nb_threads=='all':\n",
    "            #sns.barplot(x='threads',y=metric,hue='version',data=cycles_app,ax=axs[row][col], hue_order=['native-L1-L2','native-L2','native-L1','native-none'])\n",
    "            #sns.barplot(x='threads',y=metric,hue='version',data=cycles_app,ax=axs[row][col], hue_order=['native-L1-L2','native-L2','native-L1','native-none','zsim','sniper-none','sniper-l1','sniper-l1-l2'])\n",
    "            sns.barplot(x='threads',y=metric,hue='version',data=cycles_app,ax=axs[row][col], hue_order=['native-L1-L2','sniper-l1-l2'])\n",
    "        else:\n",
    "            sns.barplot(x='cpu',y=metric,hue='version',data=cycles_app,ax=axs[row][col])\n",
    "        \n",
    "        #sns.barplot(x='threads',y='value',hue='version',data=cycles_app,ax=axs[row][col])\n",
    "        #sns.catplot(x='threads',y='value',hue='version',data=cycles_app,kind='bar',ax=axs[row][col])\n",
    "        axs[row][col].set_title(app.upper())\n",
    "        axs[row][col].set_ylabel(metric)\n",
    "        if nb_threads=='all':\n",
    "            axs[row][col].set_xlabel('Number of Threads')\n",
    "        else:\n",
    "            axs[row][col].set_xlabel('Core Index')\n",
    "        #axs[row][col].set_yscale('log')\n",
    "        #break\n",
    "\n",
    "    plt.savefig('figures/sniper_l1_l2_'+metric+'.pdf',type='pdf',bbox_inches='tight')\n",
    "    \n",
    "dropdown_metrics=widgets.Dropdown(\n",
    "    options=metrics,\n",
    "    value='mean_cycles',\n",
    "    description='metric',\n",
    "    disabled=False,\n",
    "    continuous_update=False,\n",
    "    orientation='horizontal',\n",
    "    readout=True\n",
    ")    \n",
    "dropdown_nb_threads=widgets.Dropdown(\n",
    "    options=nb_threads,\n",
    "    value='all',\n",
    "    description='nb_threads',\n",
    "    disabled=False,\n",
    "    continuous_update=False,\n",
    "    orientation='horizontal',\n",
    "    readout=True\n",
    ")\n",
    "\n",
    "interact_manual(plot_metrics_graph, metric=dropdown_metrics, nb_threads=dropdown_nb_threads)"
   ]
  },
  {
   "cell_type": "code",
   "execution_count": null,
   "metadata": {},
   "outputs": [],
   "source": []
  }
 ],
 "metadata": {
  "kernelspec": {
   "display_name": "Python 3",
   "language": "python",
   "name": "python3"
  },
  "language_info": {
   "codemirror_mode": {
    "name": "ipython",
    "version": 3
   },
   "file_extension": ".py",
   "mimetype": "text/x-python",
   "name": "python",
   "nbconvert_exporter": "python",
   "pygments_lexer": "ipython3",
   "version": "3.7.3"
  }
 },
 "nbformat": 4,
 "nbformat_minor": 2
}
